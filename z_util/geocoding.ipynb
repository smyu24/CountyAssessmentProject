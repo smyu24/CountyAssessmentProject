{
 "cells": [
  {
   "cell_type": "markdown",
   "metadata": {},
   "source": [
    "## Geocoding"
   ]
  },
  {
   "cell_type": "code",
   "execution_count": 18,
   "metadata": {},
   "outputs": [],
   "source": [
    "import pandas as pd\n",
    "import geopandas as gpd\n",
    "import geopy\n",
    "from geopy.geocoders import Nominatim\n",
    "from geopy.extra.rate_limiter import RateLimiter\n",
    "import matplotlib.pyplot as plt\n",
    "import folium\n",
    "from folium.plugins import FastMarkerCluster"
   ]
  },
  {
   "cell_type": "markdown",
   "metadata": {},
   "source": [
    "### Geocoding Single Address "
   ]
  },
  {
   "cell_type": "code",
   "execution_count": 4,
   "metadata": {},
   "outputs": [],
   "source": [
    "\n",
    "locator = Nominatim(user_agent=\"myGeocoder\")\n",
    "location = locator.geocode(\"Champ de Mars, Paris, France\")"
   ]
  },
  {
   "cell_type": "code",
   "execution_count": 5,
   "metadata": {},
   "outputs": [
    {
     "name": "stdout",
     "output_type": "stream",
     "text": [
      "Champ de Mars, Rue de Grenelle, Gros-Caillou, 7e, Paris, Île-de-France, France métropolitaine, 75007, France\n",
      "Latitude = 48.85614465, Longitude = 2.29782039332223\n"
     ]
    }
   ],
   "source": [
    "print(location.address)\n",
    "print(\"Latitude = {}, Longitude = {}\".format(location.latitude, location.longitude))\n"
   ]
  },
  {
   "cell_type": "markdown",
   "metadata": {},
   "source": [
    "### Geocoding with Pandas DataFrame"
   ]
  },
  {
   "cell_type": "code",
   "execution_count": 6,
   "metadata": {},
   "outputs": [
    {
     "data": {
      "text/html": [
       "<div>\n",
       "<style scoped>\n",
       "    .dataframe tbody tr th:only-of-type {\n",
       "        vertical-align: middle;\n",
       "    }\n",
       "\n",
       "    .dataframe tbody tr th {\n",
       "        vertical-align: top;\n",
       "    }\n",
       "\n",
       "    .dataframe thead th {\n",
       "        text-align: right;\n",
       "    }\n",
       "</style>\n",
       "<table border=\"1\" class=\"dataframe\">\n",
       "  <thead>\n",
       "    <tr style=\"text-align: right;\">\n",
       "      <th></th>\n",
       "      <th>Typ</th>\n",
       "      <th>Nr</th>\n",
       "      <th>Namn</th>\n",
       "      <th>Address1</th>\n",
       "      <th>Address3</th>\n",
       "      <th>Address4</th>\n",
       "      <th>Address5</th>\n",
       "      <th>Telefon</th>\n",
       "    </tr>\n",
       "  </thead>\n",
       "  <tbody>\n",
       "    <tr>\n",
       "      <th>0</th>\n",
       "      <td>Butik</td>\n",
       "      <td>102</td>\n",
       "      <td>Fältöversten</td>\n",
       "      <td>Karlaplan 13</td>\n",
       "      <td>115 20</td>\n",
       "      <td>STOCKHOLM</td>\n",
       "      <td>Stockholms län</td>\n",
       "      <td>08/662 22 89</td>\n",
       "    </tr>\n",
       "    <tr>\n",
       "      <th>1</th>\n",
       "      <td>Butik</td>\n",
       "      <td>104</td>\n",
       "      <td>NaN</td>\n",
       "      <td>Nybrogatan 47</td>\n",
       "      <td>114 39</td>\n",
       "      <td>STOCKHOLM</td>\n",
       "      <td>Stockholms län</td>\n",
       "      <td>08/662 50 16</td>\n",
       "    </tr>\n",
       "    <tr>\n",
       "      <th>2</th>\n",
       "      <td>Butik</td>\n",
       "      <td>106</td>\n",
       "      <td>Garnisonen</td>\n",
       "      <td>Karlavägen 100 A</td>\n",
       "      <td>115 26</td>\n",
       "      <td>STOCKHOLM</td>\n",
       "      <td>Stockholms län</td>\n",
       "      <td>08/662 64 85</td>\n",
       "    </tr>\n",
       "    <tr>\n",
       "      <th>3</th>\n",
       "      <td>Butik</td>\n",
       "      <td>110</td>\n",
       "      <td>NaN</td>\n",
       "      <td>Hötorgshallen</td>\n",
       "      <td>111 57</td>\n",
       "      <td>STOCKHOLM</td>\n",
       "      <td>Stockholms län</td>\n",
       "      <td>08/56849241</td>\n",
       "    </tr>\n",
       "    <tr>\n",
       "      <th>4</th>\n",
       "      <td>Butik</td>\n",
       "      <td>113</td>\n",
       "      <td>Sergel</td>\n",
       "      <td>Drottninggatan 45</td>\n",
       "      <td>111 21</td>\n",
       "      <td>STOCKHOLM</td>\n",
       "      <td>Stockholms län</td>\n",
       "      <td>08/21 47 44</td>\n",
       "    </tr>\n",
       "  </tbody>\n",
       "</table>\n",
       "</div>"
      ],
      "text/plain": [
       "     Typ   Nr          Namn           Address1 Address3   Address4  \\\n",
       "0  Butik  102  Fältöversten       Karlaplan 13   115 20  STOCKHOLM   \n",
       "1  Butik  104           NaN      Nybrogatan 47   114 39  STOCKHOLM   \n",
       "2  Butik  106    Garnisonen   Karlavägen 100 A   115 26  STOCKHOLM   \n",
       "3  Butik  110           NaN      Hötorgshallen   111 57  STOCKHOLM   \n",
       "4  Butik  113        Sergel  Drottninggatan 45   111 21  STOCKHOLM   \n",
       "\n",
       "         Address5       Telefon  \n",
       "0  Stockholms län  08/662 22 89  \n",
       "1  Stockholms län  08/662 50 16  \n",
       "2  Stockholms län  08/662 64 85  \n",
       "3  Stockholms län   08/56849241  \n",
       "4  Stockholms län   08/21 47 44  "
      ]
     },
     "execution_count": 6,
     "metadata": {},
     "output_type": "execute_result"
    }
   ],
   "source": [
    "df = pd.read_csv(\"addresses.csv\")\n",
    "df.head()"
   ]
  },
  {
   "cell_type": "code",
   "execution_count": 7,
   "metadata": {},
   "outputs": [
    {
     "data": {
      "text/html": [
       "<div>\n",
       "<style scoped>\n",
       "    .dataframe tbody tr th:only-of-type {\n",
       "        vertical-align: middle;\n",
       "    }\n",
       "\n",
       "    .dataframe tbody tr th {\n",
       "        vertical-align: top;\n",
       "    }\n",
       "\n",
       "    .dataframe thead th {\n",
       "        text-align: right;\n",
       "    }\n",
       "</style>\n",
       "<table border=\"1\" class=\"dataframe\">\n",
       "  <thead>\n",
       "    <tr style=\"text-align: right;\">\n",
       "      <th></th>\n",
       "      <th>Typ</th>\n",
       "      <th>Nr</th>\n",
       "      <th>Namn</th>\n",
       "      <th>Address1</th>\n",
       "      <th>Address3</th>\n",
       "      <th>Address4</th>\n",
       "      <th>Address5</th>\n",
       "      <th>Telefon</th>\n",
       "      <th>ADDRESS</th>\n",
       "    </tr>\n",
       "  </thead>\n",
       "  <tbody>\n",
       "    <tr>\n",
       "      <th>0</th>\n",
       "      <td>Butik</td>\n",
       "      <td>102</td>\n",
       "      <td>Fältöversten</td>\n",
       "      <td>Karlaplan 13</td>\n",
       "      <td>115 20</td>\n",
       "      <td>STOCKHOLM</td>\n",
       "      <td>Stockholms län</td>\n",
       "      <td>08/662 22 89</td>\n",
       "      <td>Karlaplan 13,115 20,STOCKHOLM,Stockholms län, ...</td>\n",
       "    </tr>\n",
       "    <tr>\n",
       "      <th>1</th>\n",
       "      <td>Butik</td>\n",
       "      <td>104</td>\n",
       "      <td>NaN</td>\n",
       "      <td>Nybrogatan 47</td>\n",
       "      <td>114 39</td>\n",
       "      <td>STOCKHOLM</td>\n",
       "      <td>Stockholms län</td>\n",
       "      <td>08/662 50 16</td>\n",
       "      <td>Nybrogatan 47,114 39,STOCKHOLM,Stockholms län,...</td>\n",
       "    </tr>\n",
       "    <tr>\n",
       "      <th>2</th>\n",
       "      <td>Butik</td>\n",
       "      <td>106</td>\n",
       "      <td>Garnisonen</td>\n",
       "      <td>Karlavägen 100 A</td>\n",
       "      <td>115 26</td>\n",
       "      <td>STOCKHOLM</td>\n",
       "      <td>Stockholms län</td>\n",
       "      <td>08/662 64 85</td>\n",
       "      <td>Karlavägen 100 A,115 26,STOCKHOLM,Stockholms l...</td>\n",
       "    </tr>\n",
       "    <tr>\n",
       "      <th>3</th>\n",
       "      <td>Butik</td>\n",
       "      <td>110</td>\n",
       "      <td>NaN</td>\n",
       "      <td>Hötorgshallen</td>\n",
       "      <td>111 57</td>\n",
       "      <td>STOCKHOLM</td>\n",
       "      <td>Stockholms län</td>\n",
       "      <td>08/56849241</td>\n",
       "      <td>Hötorgshallen,111 57,STOCKHOLM,Stockholms län,...</td>\n",
       "    </tr>\n",
       "    <tr>\n",
       "      <th>4</th>\n",
       "      <td>Butik</td>\n",
       "      <td>113</td>\n",
       "      <td>Sergel</td>\n",
       "      <td>Drottninggatan 45</td>\n",
       "      <td>111 21</td>\n",
       "      <td>STOCKHOLM</td>\n",
       "      <td>Stockholms län</td>\n",
       "      <td>08/21 47 44</td>\n",
       "      <td>Drottninggatan 45,111 21,STOCKHOLM,Stockholms ...</td>\n",
       "    </tr>\n",
       "  </tbody>\n",
       "</table>\n",
       "</div>"
      ],
      "text/plain": [
       "     Typ   Nr          Namn           Address1 Address3   Address4  \\\n",
       "0  Butik  102  Fältöversten       Karlaplan 13   115 20  STOCKHOLM   \n",
       "1  Butik  104           NaN      Nybrogatan 47   114 39  STOCKHOLM   \n",
       "2  Butik  106    Garnisonen   Karlavägen 100 A   115 26  STOCKHOLM   \n",
       "3  Butik  110           NaN      Hötorgshallen   111 57  STOCKHOLM   \n",
       "4  Butik  113        Sergel  Drottninggatan 45   111 21  STOCKHOLM   \n",
       "\n",
       "         Address5       Telefon  \\\n",
       "0  Stockholms län  08/662 22 89   \n",
       "1  Stockholms län  08/662 50 16   \n",
       "2  Stockholms län  08/662 64 85   \n",
       "3  Stockholms län   08/56849241   \n",
       "4  Stockholms län   08/21 47 44   \n",
       "\n",
       "                                             ADDRESS  \n",
       "0  Karlaplan 13,115 20,STOCKHOLM,Stockholms län, ...  \n",
       "1  Nybrogatan 47,114 39,STOCKHOLM,Stockholms län,...  \n",
       "2  Karlavägen 100 A,115 26,STOCKHOLM,Stockholms l...  \n",
       "3  Hötorgshallen,111 57,STOCKHOLM,Stockholms län,...  \n",
       "4  Drottninggatan 45,111 21,STOCKHOLM,Stockholms ...  "
      ]
     },
     "execution_count": 7,
     "metadata": {},
     "output_type": "execute_result"
    }
   ],
   "source": [
    "df['ADDRESS'] = df['Address1'].astype(str) + ',' + \\\n",
    "                df['Address3'] + ',' + \\\n",
    "                df['Address4'] + ',' + \\\n",
    "                df['Address5'] + ',' + ' Sweden'   \n",
    "\n",
    "df.head()"
   ]
  },
  {
   "cell_type": "code",
   "execution_count": 8,
   "metadata": {},
   "outputs": [],
   "source": [
    "from geopy.extra.rate_limiter import RateLimiter\n",
    "geocode = RateLimiter(locator.geocode, min_delay_seconds=1)\n",
    "df['location'] = df['ADDRESS'].apply(geocode)\n",
    "df['point'] = df['location'].apply(lambda loc: tuple(loc.point) if loc else None)"
   ]
  },
  {
   "cell_type": "code",
   "execution_count": 9,
   "metadata": {},
   "outputs": [
    {
     "data": {
      "text/html": [
       "<div>\n",
       "<style scoped>\n",
       "    .dataframe tbody tr th:only-of-type {\n",
       "        vertical-align: middle;\n",
       "    }\n",
       "\n",
       "    .dataframe tbody tr th {\n",
       "        vertical-align: top;\n",
       "    }\n",
       "\n",
       "    .dataframe thead th {\n",
       "        text-align: right;\n",
       "    }\n",
       "</style>\n",
       "<table border=\"1\" class=\"dataframe\">\n",
       "  <thead>\n",
       "    <tr style=\"text-align: right;\">\n",
       "      <th></th>\n",
       "      <th>Typ</th>\n",
       "      <th>Nr</th>\n",
       "      <th>Namn</th>\n",
       "      <th>Address1</th>\n",
       "      <th>Address3</th>\n",
       "      <th>Address4</th>\n",
       "      <th>Address5</th>\n",
       "      <th>Telefon</th>\n",
       "      <th>ADDRESS</th>\n",
       "      <th>location</th>\n",
       "      <th>point</th>\n",
       "    </tr>\n",
       "  </thead>\n",
       "  <tbody>\n",
       "    <tr>\n",
       "      <th>0</th>\n",
       "      <td>Butik</td>\n",
       "      <td>102</td>\n",
       "      <td>Fältöversten</td>\n",
       "      <td>Karlaplan 13</td>\n",
       "      <td>115 20</td>\n",
       "      <td>STOCKHOLM</td>\n",
       "      <td>Stockholms län</td>\n",
       "      <td>08/662 22 89</td>\n",
       "      <td>Karlaplan 13,115 20,STOCKHOLM,Stockholms län, ...</td>\n",
       "      <td>(Karlaplan, Villastaden, Östermalm, Östermalms...</td>\n",
       "      <td>(59.3383148, 18.0899599, 0.0)</td>\n",
       "    </tr>\n",
       "    <tr>\n",
       "      <th>1</th>\n",
       "      <td>Butik</td>\n",
       "      <td>104</td>\n",
       "      <td>NaN</td>\n",
       "      <td>Nybrogatan 47</td>\n",
       "      <td>114 39</td>\n",
       "      <td>STOCKHOLM</td>\n",
       "      <td>Stockholms län</td>\n",
       "      <td>08/662 50 16</td>\n",
       "      <td>Nybrogatan 47,114 39,STOCKHOLM,Stockholms län,...</td>\n",
       "      <td>(47, Nybrogatan, Villastaden, Östermalm, Öster...</td>\n",
       "      <td>(59.3372072, 18.0790982, 0.0)</td>\n",
       "    </tr>\n",
       "    <tr>\n",
       "      <th>2</th>\n",
       "      <td>Butik</td>\n",
       "      <td>106</td>\n",
       "      <td>Garnisonen</td>\n",
       "      <td>Karlavägen 100 A</td>\n",
       "      <td>115 26</td>\n",
       "      <td>STOCKHOLM</td>\n",
       "      <td>Stockholms län</td>\n",
       "      <td>08/662 64 85</td>\n",
       "      <td>Karlavägen 100 A,115 26,STOCKHOLM,Stockholms l...</td>\n",
       "      <td>(Karlavägen, Östermalm, Östermalms stadsdelsom...</td>\n",
       "      <td>(59.3353799, 18.1006258, 0.0)</td>\n",
       "    </tr>\n",
       "    <tr>\n",
       "      <th>3</th>\n",
       "      <td>Butik</td>\n",
       "      <td>110</td>\n",
       "      <td>NaN</td>\n",
       "      <td>Hötorgshallen</td>\n",
       "      <td>111 57</td>\n",
       "      <td>STOCKHOLM</td>\n",
       "      <td>Stockholms län</td>\n",
       "      <td>08/56849241</td>\n",
       "      <td>Hötorgshallen,111 57,STOCKHOLM,Stockholms län,...</td>\n",
       "      <td>(Hötorgshallen, Hötorget, Norrmalm, Norrmalms ...</td>\n",
       "      <td>(59.3343273, 18.0626039, 0.0)</td>\n",
       "    </tr>\n",
       "    <tr>\n",
       "      <th>4</th>\n",
       "      <td>Butik</td>\n",
       "      <td>113</td>\n",
       "      <td>Sergel</td>\n",
       "      <td>Drottninggatan 45</td>\n",
       "      <td>111 21</td>\n",
       "      <td>STOCKHOLM</td>\n",
       "      <td>Stockholms län</td>\n",
       "      <td>08/21 47 44</td>\n",
       "      <td>Drottninggatan 45,111 21,STOCKHOLM,Stockholms ...</td>\n",
       "      <td>(Drottninggatan, Norrmalm, Norrmalms stadsdels...</td>\n",
       "      <td>(59.3324806, 18.0628093, 0.0)</td>\n",
       "    </tr>\n",
       "  </tbody>\n",
       "</table>\n",
       "</div>"
      ],
      "text/plain": [
       "     Typ   Nr          Namn           Address1 Address3   Address4  \\\n",
       "0  Butik  102  Fältöversten       Karlaplan 13   115 20  STOCKHOLM   \n",
       "1  Butik  104           NaN      Nybrogatan 47   114 39  STOCKHOLM   \n",
       "2  Butik  106    Garnisonen   Karlavägen 100 A   115 26  STOCKHOLM   \n",
       "3  Butik  110           NaN      Hötorgshallen   111 57  STOCKHOLM   \n",
       "4  Butik  113        Sergel  Drottninggatan 45   111 21  STOCKHOLM   \n",
       "\n",
       "         Address5       Telefon  \\\n",
       "0  Stockholms län  08/662 22 89   \n",
       "1  Stockholms län  08/662 50 16   \n",
       "2  Stockholms län  08/662 64 85   \n",
       "3  Stockholms län   08/56849241   \n",
       "4  Stockholms län   08/21 47 44   \n",
       "\n",
       "                                             ADDRESS  \\\n",
       "0  Karlaplan 13,115 20,STOCKHOLM,Stockholms län, ...   \n",
       "1  Nybrogatan 47,114 39,STOCKHOLM,Stockholms län,...   \n",
       "2  Karlavägen 100 A,115 26,STOCKHOLM,Stockholms l...   \n",
       "3  Hötorgshallen,111 57,STOCKHOLM,Stockholms län,...   \n",
       "4  Drottninggatan 45,111 21,STOCKHOLM,Stockholms ...   \n",
       "\n",
       "                                            location  \\\n",
       "0  (Karlaplan, Villastaden, Östermalm, Östermalms...   \n",
       "1  (47, Nybrogatan, Villastaden, Östermalm, Öster...   \n",
       "2  (Karlavägen, Östermalm, Östermalms stadsdelsom...   \n",
       "3  (Hötorgshallen, Hötorget, Norrmalm, Norrmalms ...   \n",
       "4  (Drottninggatan, Norrmalm, Norrmalms stadsdels...   \n",
       "\n",
       "                           point  \n",
       "0  (59.3383148, 18.0899599, 0.0)  \n",
       "1  (59.3372072, 18.0790982, 0.0)  \n",
       "2  (59.3353799, 18.1006258, 0.0)  \n",
       "3  (59.3343273, 18.0626039, 0.0)  \n",
       "4  (59.3324806, 18.0628093, 0.0)  "
      ]
     },
     "execution_count": 9,
     "metadata": {},
     "output_type": "execute_result"
    }
   ],
   "source": [
    "df.head()"
   ]
  },
  {
   "cell_type": "code",
   "execution_count": 10,
   "metadata": {},
   "outputs": [
    {
     "data": {
      "text/plain": [
       "59.3383148"
      ]
     },
     "execution_count": 10,
     "metadata": {},
     "output_type": "execute_result"
    }
   ],
   "source": [
    "df['point'][0][0]"
   ]
  },
  {
   "cell_type": "code",
   "execution_count": 11,
   "metadata": {},
   "outputs": [
    {
     "data": {
      "text/html": [
       "<div>\n",
       "<style scoped>\n",
       "    .dataframe tbody tr th:only-of-type {\n",
       "        vertical-align: middle;\n",
       "    }\n",
       "\n",
       "    .dataframe tbody tr th {\n",
       "        vertical-align: top;\n",
       "    }\n",
       "\n",
       "    .dataframe thead th {\n",
       "        text-align: right;\n",
       "    }\n",
       "</style>\n",
       "<table border=\"1\" class=\"dataframe\">\n",
       "  <thead>\n",
       "    <tr style=\"text-align: right;\">\n",
       "      <th></th>\n",
       "      <th>Typ</th>\n",
       "      <th>Nr</th>\n",
       "      <th>Namn</th>\n",
       "      <th>Address1</th>\n",
       "      <th>Address3</th>\n",
       "      <th>Address4</th>\n",
       "      <th>Address5</th>\n",
       "      <th>Telefon</th>\n",
       "      <th>ADDRESS</th>\n",
       "      <th>location</th>\n",
       "      <th>point</th>\n",
       "      <th>latitude</th>\n",
       "      <th>longitude</th>\n",
       "      <th>altitude</th>\n",
       "    </tr>\n",
       "  </thead>\n",
       "  <tbody>\n",
       "    <tr>\n",
       "      <th>0</th>\n",
       "      <td>Butik</td>\n",
       "      <td>102</td>\n",
       "      <td>Fältöversten</td>\n",
       "      <td>Karlaplan 13</td>\n",
       "      <td>115 20</td>\n",
       "      <td>STOCKHOLM</td>\n",
       "      <td>Stockholms län</td>\n",
       "      <td>08/662 22 89</td>\n",
       "      <td>Karlaplan 13,115 20,STOCKHOLM,Stockholms län, ...</td>\n",
       "      <td>(Karlaplan, Villastaden, Östermalm, Östermalms...</td>\n",
       "      <td>(59.3383148, 18.0899599, 0.0)</td>\n",
       "      <td>59.338315</td>\n",
       "      <td>18.089960</td>\n",
       "      <td>0.0</td>\n",
       "    </tr>\n",
       "    <tr>\n",
       "      <th>1</th>\n",
       "      <td>Butik</td>\n",
       "      <td>104</td>\n",
       "      <td>NaN</td>\n",
       "      <td>Nybrogatan 47</td>\n",
       "      <td>114 39</td>\n",
       "      <td>STOCKHOLM</td>\n",
       "      <td>Stockholms län</td>\n",
       "      <td>08/662 50 16</td>\n",
       "      <td>Nybrogatan 47,114 39,STOCKHOLM,Stockholms län,...</td>\n",
       "      <td>(47, Nybrogatan, Villastaden, Östermalm, Öster...</td>\n",
       "      <td>(59.3372072, 18.0790982, 0.0)</td>\n",
       "      <td>59.337207</td>\n",
       "      <td>18.079098</td>\n",
       "      <td>0.0</td>\n",
       "    </tr>\n",
       "    <tr>\n",
       "      <th>2</th>\n",
       "      <td>Butik</td>\n",
       "      <td>106</td>\n",
       "      <td>Garnisonen</td>\n",
       "      <td>Karlavägen 100 A</td>\n",
       "      <td>115 26</td>\n",
       "      <td>STOCKHOLM</td>\n",
       "      <td>Stockholms län</td>\n",
       "      <td>08/662 64 85</td>\n",
       "      <td>Karlavägen 100 A,115 26,STOCKHOLM,Stockholms l...</td>\n",
       "      <td>(Karlavägen, Östermalm, Östermalms stadsdelsom...</td>\n",
       "      <td>(59.3353799, 18.1006258, 0.0)</td>\n",
       "      <td>59.335380</td>\n",
       "      <td>18.100626</td>\n",
       "      <td>0.0</td>\n",
       "    </tr>\n",
       "    <tr>\n",
       "      <th>3</th>\n",
       "      <td>Butik</td>\n",
       "      <td>110</td>\n",
       "      <td>NaN</td>\n",
       "      <td>Hötorgshallen</td>\n",
       "      <td>111 57</td>\n",
       "      <td>STOCKHOLM</td>\n",
       "      <td>Stockholms län</td>\n",
       "      <td>08/56849241</td>\n",
       "      <td>Hötorgshallen,111 57,STOCKHOLM,Stockholms län,...</td>\n",
       "      <td>(Hötorgshallen, Hötorget, Norrmalm, Norrmalms ...</td>\n",
       "      <td>(59.3343273, 18.0626039, 0.0)</td>\n",
       "      <td>59.334327</td>\n",
       "      <td>18.062604</td>\n",
       "      <td>0.0</td>\n",
       "    </tr>\n",
       "    <tr>\n",
       "      <th>4</th>\n",
       "      <td>Butik</td>\n",
       "      <td>113</td>\n",
       "      <td>Sergel</td>\n",
       "      <td>Drottninggatan 45</td>\n",
       "      <td>111 21</td>\n",
       "      <td>STOCKHOLM</td>\n",
       "      <td>Stockholms län</td>\n",
       "      <td>08/21 47 44</td>\n",
       "      <td>Drottninggatan 45,111 21,STOCKHOLM,Stockholms ...</td>\n",
       "      <td>(Drottninggatan, Norrmalm, Norrmalms stadsdels...</td>\n",
       "      <td>(59.3324806, 18.0628093, 0.0)</td>\n",
       "      <td>59.332481</td>\n",
       "      <td>18.062809</td>\n",
       "      <td>0.0</td>\n",
       "    </tr>\n",
       "  </tbody>\n",
       "</table>\n",
       "</div>"
      ],
      "text/plain": [
       "     Typ   Nr          Namn           Address1 Address3   Address4  \\\n",
       "0  Butik  102  Fältöversten       Karlaplan 13   115 20  STOCKHOLM   \n",
       "1  Butik  104           NaN      Nybrogatan 47   114 39  STOCKHOLM   \n",
       "2  Butik  106    Garnisonen   Karlavägen 100 A   115 26  STOCKHOLM   \n",
       "3  Butik  110           NaN      Hötorgshallen   111 57  STOCKHOLM   \n",
       "4  Butik  113        Sergel  Drottninggatan 45   111 21  STOCKHOLM   \n",
       "\n",
       "         Address5       Telefon  \\\n",
       "0  Stockholms län  08/662 22 89   \n",
       "1  Stockholms län  08/662 50 16   \n",
       "2  Stockholms län  08/662 64 85   \n",
       "3  Stockholms län   08/56849241   \n",
       "4  Stockholms län   08/21 47 44   \n",
       "\n",
       "                                             ADDRESS  \\\n",
       "0  Karlaplan 13,115 20,STOCKHOLM,Stockholms län, ...   \n",
       "1  Nybrogatan 47,114 39,STOCKHOLM,Stockholms län,...   \n",
       "2  Karlavägen 100 A,115 26,STOCKHOLM,Stockholms l...   \n",
       "3  Hötorgshallen,111 57,STOCKHOLM,Stockholms län,...   \n",
       "4  Drottninggatan 45,111 21,STOCKHOLM,Stockholms ...   \n",
       "\n",
       "                                            location  \\\n",
       "0  (Karlaplan, Villastaden, Östermalm, Östermalms...   \n",
       "1  (47, Nybrogatan, Villastaden, Östermalm, Öster...   \n",
       "2  (Karlavägen, Östermalm, Östermalms stadsdelsom...   \n",
       "3  (Hötorgshallen, Hötorget, Norrmalm, Norrmalms ...   \n",
       "4  (Drottninggatan, Norrmalm, Norrmalms stadsdels...   \n",
       "\n",
       "                           point   latitude  longitude  altitude  \n",
       "0  (59.3383148, 18.0899599, 0.0)  59.338315  18.089960       0.0  \n",
       "1  (59.3372072, 18.0790982, 0.0)  59.337207  18.079098       0.0  \n",
       "2  (59.3353799, 18.1006258, 0.0)  59.335380  18.100626       0.0  \n",
       "3  (59.3343273, 18.0626039, 0.0)  59.334327  18.062604       0.0  \n",
       "4  (59.3324806, 18.0628093, 0.0)  59.332481  18.062809       0.0  "
      ]
     },
     "execution_count": 11,
     "metadata": {},
     "output_type": "execute_result"
    }
   ],
   "source": [
    "# split point column into latitude, longitude and altitude columns\n",
    "df[['latitude', 'longitude', 'altitude']] = pd.DataFrame(df['point'].tolist(), index=df.index)\n",
    "df.head()"
   ]
  },
  {
   "cell_type": "code",
   "execution_count": 12,
   "metadata": {},
   "outputs": [
    {
     "data": {
      "text/plain": [
       "Index(['Typ', 'Nr', 'Namn', 'Address1', 'Address3', 'Address4', 'Address5',\n",
       "       'Telefon', 'ADDRESS', 'location', 'point', 'latitude', 'longitude',\n",
       "       'altitude'],\n",
       "      dtype='object')"
      ]
     },
     "execution_count": 12,
     "metadata": {},
     "output_type": "execute_result"
    }
   ],
   "source": [
    "df.columns"
   ]
  },
  {
   "cell_type": "code",
   "execution_count": 13,
   "metadata": {},
   "outputs": [],
   "source": [
    "df = df.drop(['Address1', 'Address3', 'Address4', 'Address5','Telefon', 'ADDRESS', 'location', 'point'], axis=1)"
   ]
  },
  {
   "cell_type": "code",
   "execution_count": 14,
   "metadata": {},
   "outputs": [
    {
     "data": {
      "text/html": [
       "<div>\n",
       "<style scoped>\n",
       "    .dataframe tbody tr th:only-of-type {\n",
       "        vertical-align: middle;\n",
       "    }\n",
       "\n",
       "    .dataframe tbody tr th {\n",
       "        vertical-align: top;\n",
       "    }\n",
       "\n",
       "    .dataframe thead th {\n",
       "        text-align: right;\n",
       "    }\n",
       "</style>\n",
       "<table border=\"1\" class=\"dataframe\">\n",
       "  <thead>\n",
       "    <tr style=\"text-align: right;\">\n",
       "      <th></th>\n",
       "      <th>Typ</th>\n",
       "      <th>Nr</th>\n",
       "      <th>Namn</th>\n",
       "      <th>latitude</th>\n",
       "      <th>longitude</th>\n",
       "      <th>altitude</th>\n",
       "    </tr>\n",
       "  </thead>\n",
       "  <tbody>\n",
       "    <tr>\n",
       "      <th>0</th>\n",
       "      <td>Butik</td>\n",
       "      <td>102</td>\n",
       "      <td>Fältöversten</td>\n",
       "      <td>59.338315</td>\n",
       "      <td>18.089960</td>\n",
       "      <td>0.0</td>\n",
       "    </tr>\n",
       "    <tr>\n",
       "      <th>1</th>\n",
       "      <td>Butik</td>\n",
       "      <td>104</td>\n",
       "      <td>NaN</td>\n",
       "      <td>59.337207</td>\n",
       "      <td>18.079098</td>\n",
       "      <td>0.0</td>\n",
       "    </tr>\n",
       "    <tr>\n",
       "      <th>2</th>\n",
       "      <td>Butik</td>\n",
       "      <td>106</td>\n",
       "      <td>Garnisonen</td>\n",
       "      <td>59.335380</td>\n",
       "      <td>18.100626</td>\n",
       "      <td>0.0</td>\n",
       "    </tr>\n",
       "    <tr>\n",
       "      <th>3</th>\n",
       "      <td>Butik</td>\n",
       "      <td>110</td>\n",
       "      <td>NaN</td>\n",
       "      <td>59.334327</td>\n",
       "      <td>18.062604</td>\n",
       "      <td>0.0</td>\n",
       "    </tr>\n",
       "    <tr>\n",
       "      <th>4</th>\n",
       "      <td>Butik</td>\n",
       "      <td>113</td>\n",
       "      <td>Sergel</td>\n",
       "      <td>59.332481</td>\n",
       "      <td>18.062809</td>\n",
       "      <td>0.0</td>\n",
       "    </tr>\n",
       "  </tbody>\n",
       "</table>\n",
       "</div>"
      ],
      "text/plain": [
       "     Typ   Nr          Namn   latitude  longitude  altitude\n",
       "0  Butik  102  Fältöversten  59.338315  18.089960       0.0\n",
       "1  Butik  104           NaN  59.337207  18.079098       0.0\n",
       "2  Butik  106    Garnisonen  59.335380  18.100626       0.0\n",
       "3  Butik  110           NaN  59.334327  18.062604       0.0\n",
       "4  Butik  113        Sergel  59.332481  18.062809       0.0"
      ]
     },
     "execution_count": 14,
     "metadata": {},
     "output_type": "execute_result"
    }
   ],
   "source": [
    "df.head()"
   ]
  },
  {
   "cell_type": "code",
   "execution_count": 16,
   "metadata": {},
   "outputs": [
    {
     "data": {
      "text/plain": [
       "4"
      ]
     },
     "execution_count": 16,
     "metadata": {},
     "output_type": "execute_result"
    }
   ],
   "source": [
    "df.latitude.isnull().sum()"
   ]
  },
  {
   "cell_type": "code",
   "execution_count": 17,
   "metadata": {},
   "outputs": [],
   "source": [
    "df = df[pd.notnull(df[\"latitude\"])]"
   ]
  },
  {
   "cell_type": "code",
   "execution_count": 29,
   "metadata": {},
   "outputs": [],
   "source": [
    "map1 = folium.Map(\n",
    "    location=[59.338315,18.089960],\n",
    "    tiles='cartodbpositron',\n",
    "    zoom_start=12,\n",
    ")"
   ]
  },
  {
   "cell_type": "code",
   "execution_count": 30,
   "metadata": {},
   "outputs": [
    {
     "data": {
      "text/html": [
       "<div style=\"width:100%;\"><div style=\"position:relative;width:100%;height:0;padding-bottom:60%;\"><iframe src=\"data:text/html;charset=utf-8;base64,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\" style=\"position:absolute;width:100%;height:100%;left:0;top:0;border:none !important;\" allowfullscreen webkitallowfullscreen mozallowfullscreen></iframe></div></div>"
      ],
      "text/plain": [
       "<folium.folium.Map at 0x1a1132890f0>"
      ]
     },
     "execution_count": 30,
     "metadata": {},
     "output_type": "execute_result"
    }
   ],
   "source": [
    "df.apply(lambda row:folium.CircleMarker(location=[row[\"latitude\"], row[\"longitude\"]]).add_to(map1), axis=1)\n",
    "map1"
   ]
  },
  {
   "cell_type": "code",
   "execution_count": 33,
   "metadata": {},
   "outputs": [],
   "source": [
    "map1.save(\"map1.html\")"
   ]
  },
  {
   "cell_type": "code",
   "execution_count": 22,
   "metadata": {},
   "outputs": [
    {
     "data": {
      "text/html": [
       "<div style=\"width:100%;\"><div style=\"position:relative;width:100%;height:0;padding-bottom:60%;\"><iframe src=\"data:text/html;charset=utf-8;base64,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\" style=\"position:absolute;width:100%;height:100%;left:0;top:0;border:none !important;\" allowfullscreen webkitallowfullscreen mozallowfullscreen></iframe></div></div>"
      ],
      "text/plain": [
       "<folium.folium.Map at 0x1a113191588>"
      ]
     },
     "execution_count": 22,
     "metadata": {},
     "output_type": "execute_result"
    }
   ],
   "source": [
    "\n",
    "folium_map = folium.Map(location=[59.338315,18.089960],\n",
    "                        zoom_start=12,\n",
    "                        tiles='CartoDB dark_matter')\n",
    "\n",
    "\n",
    "FastMarkerCluster(data=list(zip(df['latitude'].values, df['longitude'].values))).add_to(folium_map)\n",
    "folium.LayerControl().add_to(folium_map)\n",
    "folium_map"
   ]
  },
  {
   "cell_type": "code",
   "execution_count": 34,
   "metadata": {},
   "outputs": [],
   "source": [
    "folium_map.save(\"map2.html\")"
   ]
  },
  {
   "cell_type": "code",
   "execution_count": null,
   "metadata": {},
   "outputs": [],
   "source": []
  }
 ],
 "metadata": {
  "hide_input": false,
  "kernelspec": {
   "display_name": "Geo",
   "language": "python",
   "name": "geo"
  },
  "language_info": {
   "codemirror_mode": {
    "name": "ipython",
    "version": 3
   },
   "file_extension": ".py",
   "mimetype": "text/x-python",
   "name": "python",
   "nbconvert_exporter": "python",
   "pygments_lexer": "ipython3",
   "version": "3.6.6"
  }
 },
 "nbformat": 4,
 "nbformat_minor": 2
}
