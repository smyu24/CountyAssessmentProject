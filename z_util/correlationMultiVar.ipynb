{
 "cells": [
  {
   "cell_type": "code",
   "execution_count": 3,
   "metadata": {},
   "outputs": [
    {
     "name": "stdout",
     "output_type": "stream",
     "text": [
      "Requirement already satisfied: numpy in c:\\users\\smyu2\\appdata\\local\\packages\\pythonsoftwarefoundation.python.3.9_qbz5n2kfra8p0\\localcache\\local-packages\\python39\\site-packages (1.24.2)\n"
     ]
    }
   ],
   "source": [
    "#pip install pandas --quiet\n",
    "!pip install numpy"
   ]
  },
  {
   "cell_type": "code",
   "execution_count": null,
   "metadata": {},
   "outputs": [],
   "source": [
    "import pandas as pd\n",
    "import numpy as np\n",
    "\n",
    "# load dataset\n",
    "df = pd.read_csv('dataset.csv')\n",
    "# calculate correlation matrix\n",
    "corr_matrix = df.corr().abs()\n",
    "# print correlation matrix\n",
    "print(corr_matrix)\n",
    "\n",
    "#We can use the corr_matrix to identify the highly correlated features.values between 0 and 1, where 0 indicates no correlation and 1 indicates perfect correlation. \n",
    "\n",
    "# get upper triangle of correlation matrix\n",
    "upper = corr_matrix.where(np.triu(np.ones(corr_matrix.shape), k=1).astype(np.bool))\n",
    "\n",
    "# find features with correlation greater than 0.95\n",
    "to_drop = [column for column in upper.columns if any(upper[column] > 0.95)]\n",
    "\n",
    "print(to_drop)\n",
    "\n",
    "# Using the variance inflation factor (VIF)\n",
    "# The variance inflation factor (VIF) is another way to detect multicollinearity between features. \n",
    "# The VIF measures how much the variance of the estimated regression coefficients is increased because of multicollinearity in the model. \n",
    "# If the VIF of a feature is greater than 5 or 10, it indicates that the feature is highly correlated with other features in the model.\n",
    "\n",
    "# from statsmodels.stats.outliers_influence import variance_inflation_factor\n",
    "# # calculate VIF for each feature\n",
    "# vif = pd.DataFrame()\n",
    "# vif[\"VIF Factor\"] = [variance_inflation_factor(X.values, i) for i in range(X.shape[1])]\n",
    "# vif[\"features\"] = X.columns\n",
    "# # print VIF values\n",
    "# print(vif)\n",
    "\n",
    "# In this example, we're using the variance_inflation_factor() method from the statsmodels package to calculate the VIF values for each feature. We then create a dataframe with the VIF values and feature names and print them.\n",
    "# Using scikit-learn's SelectKBest method\n",
    "# Scikit-learn provides a SelectKBest method that can be used to select the k most important features based on a scoring function. This method can select the essential features and remove the highly correlated ones. \n",
    "\n",
    "# from sklearn.feature_selection import SelectKBest\n",
    "# from sklearn.feature_selection import f_regression\n",
    "\n",
    "# # define number of features to keep\n",
    "# k = 10\n",
    "# # perform feature selection\n",
    "# X_new = SelectKBest(f_regression, k=k).fit_transform(X, y)\n",
    "# # get feature names of selected features\n",
    "# selected_features = X.columns[SelectKBest(f_regression, k=k).fit(X, y).get_support()]\n",
    "# # print selected features\n",
    "# print(selected_features)\n",
    "# In this example, we use the f_regression scoring function to select the k most essential features. We then use the get_support() method to get a boolean mask of the selected features and use this to get the feature names."
   ]
  },
  {
   "attachments": {},
   "cell_type": "markdown",
   "metadata": {},
   "source": [
    "# 111"
   ]
  },
  {
   "cell_type": "code",
   "execution_count": null,
   "metadata": {},
   "outputs": [],
   "source": []
  }
 ],
 "metadata": {
  "kernelspec": {
   "display_name": "Python 3",
   "language": "python",
   "name": "python3"
  },
  "language_info": {
   "codemirror_mode": {
    "name": "ipython",
    "version": 3
   },
   "file_extension": ".py",
   "mimetype": "text/x-python",
   "name": "python",
   "nbconvert_exporter": "python",
   "pygments_lexer": "ipython3",
   "version": "3.9.13"
  },
  "orig_nbformat": 4
 },
 "nbformat": 4,
 "nbformat_minor": 2
}
